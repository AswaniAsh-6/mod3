{
 "cells": [
  {
   "cell_type": "code",
   "execution_count": 1,
   "id": "8ab736e4",
   "metadata": {},
   "outputs": [],
   "source": [
    "import pandas as pd\n",
    "import numpy as np"
   ]
  },
  {
   "cell_type": "code",
   "execution_count": 2,
   "id": "e0747500",
   "metadata": {},
   "outputs": [
    {
     "name": "stdout",
     "output_type": "stream",
     "text": [
      "      Id  SepalLengthCm  SepalWidthCm  PetalLengthCm  PetalWidthCm  \\\n",
      "0      1            5.1           3.5            1.4           0.2   \n",
      "1      2            4.9           3.0            1.4           0.2   \n",
      "2      3            4.7           3.2            1.3           0.2   \n",
      "3      4            4.6           3.1            1.5           0.2   \n",
      "4      5            5.0           3.6            1.4           0.2   \n",
      "..   ...            ...           ...            ...           ...   \n",
      "145  146            6.7           3.0            5.2           2.3   \n",
      "146  147            6.3           2.5            5.0           1.9   \n",
      "147  148            6.5           3.0            5.2           2.0   \n",
      "148  149            6.2           3.4            5.4           2.3   \n",
      "149  150            5.9           3.0            5.1           1.8   \n",
      "\n",
      "            Species  \n",
      "0       Iris-setosa  \n",
      "1       Iris-setosa  \n",
      "2       Iris-setosa  \n",
      "3       Iris-setosa  \n",
      "4       Iris-setosa  \n",
      "..              ...  \n",
      "145  Iris-virginica  \n",
      "146  Iris-virginica  \n",
      "147  Iris-virginica  \n",
      "148  Iris-virginica  \n",
      "149  Iris-virginica  \n",
      "\n",
      "[150 rows x 6 columns]\n"
     ]
    }
   ],
   "source": [
    "df=pd.read_csv('iris.csv')\n",
    "print(df)"
   ]
  },
  {
   "cell_type": "code",
   "execution_count": 3,
   "id": "01d394bf",
   "metadata": {},
   "outputs": [
    {
     "name": "stdout",
     "output_type": "stream",
     "text": [
      "Id                 int64\n",
      "SepalLengthCm    float64\n",
      "SepalWidthCm     float64\n",
      "PetalLengthCm    float64\n",
      "PetalWidthCm     float64\n",
      "Species           object\n",
      "dtype: object\n"
     ]
    }
   ],
   "source": [
    "print(df.dtypes)"
   ]
  },
  {
   "cell_type": "code",
   "execution_count": 4,
   "id": "c5254aea",
   "metadata": {},
   "outputs": [
    {
     "name": "stdout",
     "output_type": "stream",
     "text": [
      "   Id  SepalLengthCm  SepalWidthCm  PetalLengthCm  PetalWidthCm      Species\n",
      "0   1            5.1           3.5            1.4           0.2  Iris-setosa\n",
      "1   2            4.9           3.0            1.4           0.2  Iris-setosa\n",
      "2   3            4.7           3.2            1.3           0.2  Iris-setosa\n",
      "3   4            4.6           3.1            1.5           0.2  Iris-setosa\n",
      "4   5            5.0           3.6            1.4           0.2  Iris-setosa\n"
     ]
    }
   ],
   "source": [
    "print(df.head())"
   ]
  },
  {
   "cell_type": "code",
   "execution_count": 5,
   "id": "5a11cf5c",
   "metadata": {},
   "outputs": [
    {
     "name": "stdout",
     "output_type": "stream",
     "text": [
      "      Id  SepalLengthCm  SepalWidthCm  PetalLengthCm  PetalWidthCm  \\\n",
      "145  146            6.7           3.0            5.2           2.3   \n",
      "146  147            6.3           2.5            5.0           1.9   \n",
      "147  148            6.5           3.0            5.2           2.0   \n",
      "148  149            6.2           3.4            5.4           2.3   \n",
      "149  150            5.9           3.0            5.1           1.8   \n",
      "\n",
      "            Species  \n",
      "145  Iris-virginica  \n",
      "146  Iris-virginica  \n",
      "147  Iris-virginica  \n",
      "148  Iris-virginica  \n",
      "149  Iris-virginica  \n"
     ]
    }
   ],
   "source": [
    "print(df.tail())"
   ]
  },
  {
   "cell_type": "code",
   "execution_count": 6,
   "id": "5fdd4097",
   "metadata": {},
   "outputs": [
    {
     "name": "stdout",
     "output_type": "stream",
     "text": [
      "RangeIndex(start=0, stop=150, step=1)\n"
     ]
    }
   ],
   "source": [
    "print(df.index)"
   ]
  },
  {
   "cell_type": "code",
   "execution_count": 7,
   "id": "5c15f342",
   "metadata": {},
   "outputs": [
    {
     "name": "stdout",
     "output_type": "stream",
     "text": [
      "Index(['Id', 'SepalLengthCm', 'SepalWidthCm', 'PetalLengthCm', 'PetalWidthCm',\n",
      "       'Species'],\n",
      "      dtype='object')\n"
     ]
    }
   ],
   "source": [
    "print(df.columns)"
   ]
  },
  {
   "cell_type": "code",
   "execution_count": 8,
   "id": "e7daf3c5",
   "metadata": {},
   "outputs": [
    {
     "name": "stdout",
     "output_type": "stream",
     "text": [
      "               Id  SepalLengthCm  SepalWidthCm  PetalLengthCm  PetalWidthCm\n",
      "count  150.000000     150.000000    150.000000     150.000000    150.000000\n",
      "mean    75.500000       5.843333      3.054000       3.758667      1.198667\n",
      "std     43.445368       0.828066      0.433594       1.764420      0.763161\n",
      "min      1.000000       4.300000      2.000000       1.000000      0.100000\n",
      "25%     38.250000       5.100000      2.800000       1.600000      0.300000\n",
      "50%     75.500000       5.800000      3.000000       4.350000      1.300000\n",
      "75%    112.750000       6.400000      3.300000       5.100000      1.800000\n",
      "max    150.000000       7.900000      4.400000       6.900000      2.500000\n"
     ]
    }
   ],
   "source": [
    "print(df.describe())"
   ]
  },
  {
   "cell_type": "code",
   "execution_count": 9,
   "id": "ffe5ee6b",
   "metadata": {},
   "outputs": [
    {
     "name": "stdout",
     "output_type": "stream",
     "text": [
      "            Species  SepalWidthCm  SepalLengthCm  PetalWidthCm  PetalLengthCm  \\\n",
      "0       Iris-setosa           3.5            5.1           0.2            1.4   \n",
      "1       Iris-setosa           3.0            4.9           0.2            1.4   \n",
      "2       Iris-setosa           3.2            4.7           0.2            1.3   \n",
      "3       Iris-setosa           3.1            4.6           0.2            1.5   \n",
      "4       Iris-setosa           3.6            5.0           0.2            1.4   \n",
      "..              ...           ...            ...           ...            ...   \n",
      "145  Iris-virginica           3.0            6.7           2.3            5.2   \n",
      "146  Iris-virginica           2.5            6.3           1.9            5.0   \n",
      "147  Iris-virginica           3.0            6.5           2.0            5.2   \n",
      "148  Iris-virginica           3.4            6.2           2.3            5.4   \n",
      "149  Iris-virginica           3.0            5.9           1.8            5.1   \n",
      "\n",
      "      Id  \n",
      "0      1  \n",
      "1      2  \n",
      "2      3  \n",
      "3      4  \n",
      "4      5  \n",
      "..   ...  \n",
      "145  146  \n",
      "146  147  \n",
      "147  148  \n",
      "148  149  \n",
      "149  150  \n",
      "\n",
      "[150 rows x 6 columns]\n"
     ]
    }
   ],
   "source": [
    "print(df.sort_index(axis=1,ascending=False))"
   ]
  },
  {
   "cell_type": "code",
   "execution_count": 10,
   "id": "1855cf94",
   "metadata": {},
   "outputs": [
    {
     "name": "stdout",
     "output_type": "stream",
     "text": [
      "            Species  PetalWidthCm\n",
      "0       Iris-setosa           0.2\n",
      "1       Iris-setosa           0.2\n",
      "2       Iris-setosa           0.2\n",
      "3       Iris-setosa           0.2\n",
      "4       Iris-setosa           0.2\n",
      "..              ...           ...\n",
      "145  Iris-virginica           2.3\n",
      "146  Iris-virginica           1.9\n",
      "147  Iris-virginica           2.0\n",
      "148  Iris-virginica           2.3\n",
      "149  Iris-virginica           1.8\n",
      "\n",
      "[150 rows x 2 columns]\n"
     ]
    }
   ],
   "source": [
    "df1=pd.DataFrame(df,columns=['Species','PetalWidthCm'])\n",
    "print(df1)"
   ]
  },
  {
   "cell_type": "code",
   "execution_count": 11,
   "id": "c1f04bf2",
   "metadata": {},
   "outputs": [
    {
     "name": "stdout",
     "output_type": "stream",
     "text": [
      "Species          0\n",
      "SepalWidthCm     0\n",
      "SepalLengthCm    0\n",
      "PetalWidthCm     0\n",
      "PetalLengthCm    0\n",
      "dtype: int64\n"
     ]
    }
   ],
   "source": [
    "num_missing=(df[['Species','SepalWidthCm','SepalLengthCm','PetalWidthCm','PetalLengthCm']]==0).sum()\n",
    "print(num_missing)"
   ]
  },
  {
   "cell_type": "code",
   "execution_count": 12,
   "id": "a74ab1f7",
   "metadata": {},
   "outputs": [
    {
     "name": "stdout",
     "output_type": "stream",
     "text": [
      "        Id  SepalLengthCm  SepalWidthCm  PetalLengthCm  PetalWidthCm  Species\n",
      "0    False          False         False          False         False    False\n",
      "1    False          False         False          False         False    False\n",
      "2    False          False         False          False         False    False\n",
      "3    False          False         False          False         False    False\n",
      "4    False          False         False          False         False    False\n",
      "..     ...            ...           ...            ...           ...      ...\n",
      "145  False          False         False          False         False    False\n",
      "146  False          False         False          False         False    False\n",
      "147  False          False         False          False         False    False\n",
      "148  False          False         False          False         False    False\n",
      "149  False          False         False          False         False    False\n",
      "\n",
      "[150 rows x 6 columns]\n"
     ]
    }
   ],
   "source": [
    "print(df.isnull())"
   ]
  },
  {
   "cell_type": "code",
   "execution_count": 13,
   "id": "8239b648",
   "metadata": {},
   "outputs": [
    {
     "name": "stdout",
     "output_type": "stream",
     "text": [
      "RangeIndex(start=0, stop=150, step=1)\n"
     ]
    }
   ],
   "source": [
    "d=pd.RangeIndex(150)\n",
    "print(d)"
   ]
  },
  {
   "cell_type": "code",
   "execution_count": 14,
   "id": "b7956b5b",
   "metadata": {},
   "outputs": [
    {
     "name": "stdout",
     "output_type": "stream",
     "text": [
      "   Id  SepalLengthCm  SepalWidthCm  PetalLengthCm  PetalWidthCm      Species  \\\n",
      "0   1            5.1           3.5            1.4           0.2  Iris-setosa   \n",
      "1   2            4.9           3.0            1.4           0.2  Iris-setosa   \n",
      "2   3            4.7           3.2            1.3           0.2  Iris-setosa   \n",
      "3   4            4.6           3.1            1.5           0.2  Iris-setosa   \n",
      "\n",
      "   new_col  \n",
      "0      1.0  \n",
      "1      1.0  \n",
      "2      1.0  \n",
      "3      NaN  \n"
     ]
    }
   ],
   "source": [
    "df3=df.reindex(index=d[0:4],columns=list(df.columns)+['new_col'])\n",
    "df3.loc[d[0]:d[2],'new_col']=1\n",
    "print(df3)"
   ]
  },
  {
   "cell_type": "code",
   "execution_count": 15,
   "id": "995c473c",
   "metadata": {},
   "outputs": [
    {
     "name": "stdout",
     "output_type": "stream",
     "text": [
      "      Id  SepalLengthCm  SepalWidthCm  PetalLengthCm  PetalWidthCm  Species  \\\n",
      "0  False          False         False          False         False    False   \n",
      "1  False          False         False          False         False    False   \n",
      "2  False          False         False          False         False    False   \n",
      "3  False          False         False          False         False    False   \n",
      "\n",
      "   new_col  \n",
      "0    False  \n",
      "1    False  \n",
      "2    False  \n",
      "3     True  \n"
     ]
    }
   ],
   "source": [
    "print(df3.isnull())"
   ]
  },
  {
   "cell_type": "code",
   "execution_count": 16,
   "id": "cd10baaa",
   "metadata": {},
   "outputs": [
    {
     "name": "stdout",
     "output_type": "stream",
     "text": [
      "   Id  SepalLengthCm  SepalWidthCm  PetalLengthCm  PetalWidthCm      Species  \\\n",
      "0   1            5.1           3.5            1.4           0.2  Iris-setosa   \n",
      "1   2            4.9           3.0            1.4           0.2  Iris-setosa   \n",
      "2   3            4.7           3.2            1.3           0.2  Iris-setosa   \n",
      "\n",
      "   new_col  \n",
      "0      1.0  \n",
      "1      1.0  \n",
      "2      1.0  \n"
     ]
    }
   ],
   "source": [
    "print(df3.dropna())"
   ]
  },
  {
   "cell_type": "code",
   "execution_count": 17,
   "id": "cc41dd45",
   "metadata": {},
   "outputs": [
    {
     "name": "stdout",
     "output_type": "stream",
     "text": [
      "   Id  SepalLengthCm  SepalWidthCm  PetalLengthCm  PetalWidthCm      Species  \\\n",
      "0   1            5.1           3.5            1.4           0.2  Iris-setosa   \n",
      "1   2            4.9           3.0            1.4           0.2  Iris-setosa   \n",
      "2   3            4.7           3.2            1.3           0.2  Iris-setosa   \n",
      "3   4            4.6           3.1            1.5           0.2  Iris-setosa   \n",
      "\n",
      "   new_col  \n",
      "0      1.0  \n",
      "1      1.0  \n",
      "2      1.0  \n",
      "3      2.0  \n"
     ]
    }
   ],
   "source": [
    "print(df3.fillna(value=2))"
   ]
  },
  {
   "cell_type": "code",
   "execution_count": 18,
   "id": "11a9998b",
   "metadata": {},
   "outputs": [
    {
     "name": "stdout",
     "output_type": "stream",
     "text": [
      "Id               2.500\n",
      "SepalLengthCm    4.825\n",
      "SepalWidthCm     3.200\n",
      "PetalLengthCm    1.400\n",
      "PetalWidthCm     0.200\n",
      "new_col          1.000\n",
      "dtype: float64\n"
     ]
    }
   ],
   "source": [
    "print(df3.mean())"
   ]
  },
  {
   "cell_type": "code",
   "execution_count": 19,
   "id": "6c3ed05b",
   "metadata": {},
   "outputs": [
    {
     "name": "stdout",
     "output_type": "stream",
     "text": [
      "        Id  SepalLengthCm  SepalWidthCm  PetalLengthCm  PetalWidthCm  \\\n",
      "0        1            5.1           3.5            1.4           0.2   \n",
      "1        3           10.0           6.5            2.8           0.4   \n",
      "2        6           14.7           9.7            4.1           0.6   \n",
      "3       10           19.3          12.8            5.6           0.8   \n",
      "4       15           24.3          16.4            7.0           1.0   \n",
      "..     ...            ...           ...            ...           ...   \n",
      "145  10731          851.6         446.2          543.1         171.8   \n",
      "146  10878          857.9         448.7          548.1         173.7   \n",
      "147  11026          864.4         451.7          553.3         175.7   \n",
      "148  11175          870.6         455.1          558.7         178.0   \n",
      "149  11325          876.5         458.1          563.8         179.8   \n",
      "\n",
      "                                               Species  \n",
      "0                                          Iris-setosa  \n",
      "1                               Iris-setosaIris-setosa  \n",
      "2                    Iris-setosaIris-setosaIris-setosa  \n",
      "3         Iris-setosaIris-setosaIris-setosaIris-setosa  \n",
      "4    Iris-setosaIris-setosaIris-setosaIris-setosaIr...  \n",
      "..                                                 ...  \n",
      "145  Iris-setosaIris-setosaIris-setosaIris-setosaIr...  \n",
      "146  Iris-setosaIris-setosaIris-setosaIris-setosaIr...  \n",
      "147  Iris-setosaIris-setosaIris-setosaIris-setosaIr...  \n",
      "148  Iris-setosaIris-setosaIris-setosaIris-setosaIr...  \n",
      "149  Iris-setosaIris-setosaIris-setosaIris-setosaIr...  \n",
      "\n",
      "[150 rows x 6 columns]\n"
     ]
    }
   ],
   "source": [
    "print(df.apply(np.cumsum))"
   ]
  },
  {
   "cell_type": "code",
   "execution_count": 20,
   "id": "41eda694",
   "metadata": {},
   "outputs": [
    {
     "data": {
      "text/plain": [
       "[    Id  SepalLengthCm  SepalWidthCm  PetalLengthCm  PetalWidthCm      Species\n",
       " 0    1            5.1           3.5            1.4           0.2  Iris-setosa\n",
       " 1    2            4.9           3.0            1.4           0.2  Iris-setosa\n",
       " 2    3            4.7           3.2            1.3           0.2  Iris-setosa\n",
       " 3    4            4.6           3.1            1.5           0.2  Iris-setosa\n",
       " 4    5            5.0           3.6            1.4           0.2  Iris-setosa\n",
       " 5    6            5.4           3.9            1.7           0.4  Iris-setosa\n",
       " 6    7            4.6           3.4            1.4           0.3  Iris-setosa\n",
       " 7    8            5.0           3.4            1.5           0.2  Iris-setosa\n",
       " 8    9            4.4           2.9            1.4           0.2  Iris-setosa\n",
       " 9   10            4.9           3.1            1.5           0.1  Iris-setosa\n",
       " 10  11            5.4           3.7            1.5           0.2  Iris-setosa\n",
       " 11  12            4.8           3.4            1.6           0.2  Iris-setosa\n",
       " 12  13            4.8           3.0            1.4           0.1  Iris-setosa\n",
       " 13  14            4.3           3.0            1.1           0.1  Iris-setosa\n",
       " 14  15            5.8           4.0            1.2           0.2  Iris-setosa\n",
       " 15  16            5.7           4.4            1.5           0.4  Iris-setosa\n",
       " 16  17            5.4           3.9            1.3           0.4  Iris-setosa\n",
       " 17  18            5.1           3.5            1.4           0.3  Iris-setosa\n",
       " 18  19            5.7           3.8            1.7           0.3  Iris-setosa\n",
       " 19  20            5.1           3.8            1.5           0.3  Iris-setosa\n",
       " 20  21            5.4           3.4            1.7           0.2  Iris-setosa\n",
       " 21  22            5.1           3.7            1.5           0.4  Iris-setosa\n",
       " 22  23            4.6           3.6            1.0           0.2  Iris-setosa\n",
       " 23  24            5.1           3.3            1.7           0.5  Iris-setosa\n",
       " 24  25            4.8           3.4            1.9           0.2  Iris-setosa\n",
       " 25  26            5.0           3.0            1.6           0.2  Iris-setosa\n",
       " 26  27            5.0           3.4            1.6           0.4  Iris-setosa\n",
       " 27  28            5.2           3.5            1.5           0.2  Iris-setosa\n",
       " 28  29            5.2           3.4            1.4           0.2  Iris-setosa\n",
       " 29  30            4.7           3.2            1.6           0.2  Iris-setosa\n",
       " 30  31            4.8           3.1            1.6           0.2  Iris-setosa\n",
       " 31  32            5.4           3.4            1.5           0.4  Iris-setosa\n",
       " 32  33            5.2           4.1            1.5           0.1  Iris-setosa\n",
       " 33  34            5.5           4.2            1.4           0.2  Iris-setosa\n",
       " 34  35            4.9           3.1            1.5           0.1  Iris-setosa\n",
       " 35  36            5.0           3.2            1.2           0.2  Iris-setosa\n",
       " 36  37            5.5           3.5            1.3           0.2  Iris-setosa\n",
       " 37  38            4.9           3.1            1.5           0.1  Iris-setosa\n",
       " 38  39            4.4           3.0            1.3           0.2  Iris-setosa\n",
       " 39  40            5.1           3.4            1.5           0.2  Iris-setosa\n",
       " 40  41            5.0           3.5            1.3           0.3  Iris-setosa\n",
       " 41  42            4.5           2.3            1.3           0.3  Iris-setosa\n",
       " 42  43            4.4           3.2            1.3           0.2  Iris-setosa\n",
       " 43  44            5.0           3.5            1.6           0.6  Iris-setosa\n",
       " 44  45            5.1           3.8            1.9           0.4  Iris-setosa\n",
       " 45  46            4.8           3.0            1.4           0.3  Iris-setosa\n",
       " 46  47            5.1           3.8            1.6           0.2  Iris-setosa\n",
       " 47  48            4.6           3.2            1.4           0.2  Iris-setosa\n",
       " 48  49            5.3           3.7            1.5           0.2  Iris-setosa\n",
       " 49  50            5.0           3.3            1.4           0.2  Iris-setosa,\n",
       "      Id  SepalLengthCm  SepalWidthCm  PetalLengthCm  PetalWidthCm  \\\n",
       " 50   51            7.0           3.2            4.7           1.4   \n",
       " 51   52            6.4           3.2            4.5           1.5   \n",
       " 52   53            6.9           3.1            4.9           1.5   \n",
       " 53   54            5.5           2.3            4.0           1.3   \n",
       " 54   55            6.5           2.8            4.6           1.5   \n",
       " 55   56            5.7           2.8            4.5           1.3   \n",
       " 56   57            6.3           3.3            4.7           1.6   \n",
       " 57   58            4.9           2.4            3.3           1.0   \n",
       " 58   59            6.6           2.9            4.6           1.3   \n",
       " 59   60            5.2           2.7            3.9           1.4   \n",
       " 60   61            5.0           2.0            3.5           1.0   \n",
       " 61   62            5.9           3.0            4.2           1.5   \n",
       " 62   63            6.0           2.2            4.0           1.0   \n",
       " 63   64            6.1           2.9            4.7           1.4   \n",
       " 64   65            5.6           2.9            3.6           1.3   \n",
       " 65   66            6.7           3.1            4.4           1.4   \n",
       " 66   67            5.6           3.0            4.5           1.5   \n",
       " 67   68            5.8           2.7            4.1           1.0   \n",
       " 68   69            6.2           2.2            4.5           1.5   \n",
       " 69   70            5.6           2.5            3.9           1.1   \n",
       " 70   71            5.9           3.2            4.8           1.8   \n",
       " 71   72            6.1           2.8            4.0           1.3   \n",
       " 72   73            6.3           2.5            4.9           1.5   \n",
       " 73   74            6.1           2.8            4.7           1.2   \n",
       " 74   75            6.4           2.9            4.3           1.3   \n",
       " 75   76            6.6           3.0            4.4           1.4   \n",
       " 76   77            6.8           2.8            4.8           1.4   \n",
       " 77   78            6.7           3.0            5.0           1.7   \n",
       " 78   79            6.0           2.9            4.5           1.5   \n",
       " 79   80            5.7           2.6            3.5           1.0   \n",
       " 80   81            5.5           2.4            3.8           1.1   \n",
       " 81   82            5.5           2.4            3.7           1.0   \n",
       " 82   83            5.8           2.7            3.9           1.2   \n",
       " 83   84            6.0           2.7            5.1           1.6   \n",
       " 84   85            5.4           3.0            4.5           1.5   \n",
       " 85   86            6.0           3.4            4.5           1.6   \n",
       " 86   87            6.7           3.1            4.7           1.5   \n",
       " 87   88            6.3           2.3            4.4           1.3   \n",
       " 88   89            5.6           3.0            4.1           1.3   \n",
       " 89   90            5.5           2.5            4.0           1.3   \n",
       " 90   91            5.5           2.6            4.4           1.2   \n",
       " 91   92            6.1           3.0            4.6           1.4   \n",
       " 92   93            5.8           2.6            4.0           1.2   \n",
       " 93   94            5.0           2.3            3.3           1.0   \n",
       " 94   95            5.6           2.7            4.2           1.3   \n",
       " 95   96            5.7           3.0            4.2           1.2   \n",
       " 96   97            5.7           2.9            4.2           1.3   \n",
       " 97   98            6.2           2.9            4.3           1.3   \n",
       " 98   99            5.1           2.5            3.0           1.1   \n",
       " 99  100            5.7           2.8            4.1           1.3   \n",
       " \n",
       "             Species  \n",
       " 50  Iris-versicolor  \n",
       " 51  Iris-versicolor  \n",
       " 52  Iris-versicolor  \n",
       " 53  Iris-versicolor  \n",
       " 54  Iris-versicolor  \n",
       " 55  Iris-versicolor  \n",
       " 56  Iris-versicolor  \n",
       " 57  Iris-versicolor  \n",
       " 58  Iris-versicolor  \n",
       " 59  Iris-versicolor  \n",
       " 60  Iris-versicolor  \n",
       " 61  Iris-versicolor  \n",
       " 62  Iris-versicolor  \n",
       " 63  Iris-versicolor  \n",
       " 64  Iris-versicolor  \n",
       " 65  Iris-versicolor  \n",
       " 66  Iris-versicolor  \n",
       " 67  Iris-versicolor  \n",
       " 68  Iris-versicolor  \n",
       " 69  Iris-versicolor  \n",
       " 70  Iris-versicolor  \n",
       " 71  Iris-versicolor  \n",
       " 72  Iris-versicolor  \n",
       " 73  Iris-versicolor  \n",
       " 74  Iris-versicolor  \n",
       " 75  Iris-versicolor  \n",
       " 76  Iris-versicolor  \n",
       " 77  Iris-versicolor  \n",
       " 78  Iris-versicolor  \n",
       " 79  Iris-versicolor  \n",
       " 80  Iris-versicolor  \n",
       " 81  Iris-versicolor  \n",
       " 82  Iris-versicolor  \n",
       " 83  Iris-versicolor  \n",
       " 84  Iris-versicolor  \n",
       " 85  Iris-versicolor  \n",
       " 86  Iris-versicolor  \n",
       " 87  Iris-versicolor  \n",
       " 88  Iris-versicolor  \n",
       " 89  Iris-versicolor  \n",
       " 90  Iris-versicolor  \n",
       " 91  Iris-versicolor  \n",
       " 92  Iris-versicolor  \n",
       " 93  Iris-versicolor  \n",
       " 94  Iris-versicolor  \n",
       " 95  Iris-versicolor  \n",
       " 96  Iris-versicolor  \n",
       " 97  Iris-versicolor  \n",
       " 98  Iris-versicolor  \n",
       " 99  Iris-versicolor  ,\n",
       "       Id  SepalLengthCm  SepalWidthCm  PetalLengthCm  PetalWidthCm  \\\n",
       " 100  101            6.3           3.3            6.0           2.5   \n",
       " 101  102            5.8           2.7            5.1           1.9   \n",
       " 102  103            7.1           3.0            5.9           2.1   \n",
       " 103  104            6.3           2.9            5.6           1.8   \n",
       " 104  105            6.5           3.0            5.8           2.2   \n",
       " 105  106            7.6           3.0            6.6           2.1   \n",
       " 106  107            4.9           2.5            4.5           1.7   \n",
       " 107  108            7.3           2.9            6.3           1.8   \n",
       " 108  109            6.7           2.5            5.8           1.8   \n",
       " 109  110            7.2           3.6            6.1           2.5   \n",
       " 110  111            6.5           3.2            5.1           2.0   \n",
       " 111  112            6.4           2.7            5.3           1.9   \n",
       " 112  113            6.8           3.0            5.5           2.1   \n",
       " 113  114            5.7           2.5            5.0           2.0   \n",
       " 114  115            5.8           2.8            5.1           2.4   \n",
       " 115  116            6.4           3.2            5.3           2.3   \n",
       " 116  117            6.5           3.0            5.5           1.8   \n",
       " 117  118            7.7           3.8            6.7           2.2   \n",
       " 118  119            7.7           2.6            6.9           2.3   \n",
       " 119  120            6.0           2.2            5.0           1.5   \n",
       " 120  121            6.9           3.2            5.7           2.3   \n",
       " 121  122            5.6           2.8            4.9           2.0   \n",
       " 122  123            7.7           2.8            6.7           2.0   \n",
       " 123  124            6.3           2.7            4.9           1.8   \n",
       " 124  125            6.7           3.3            5.7           2.1   \n",
       " 125  126            7.2           3.2            6.0           1.8   \n",
       " 126  127            6.2           2.8            4.8           1.8   \n",
       " 127  128            6.1           3.0            4.9           1.8   \n",
       " 128  129            6.4           2.8            5.6           2.1   \n",
       " 129  130            7.2           3.0            5.8           1.6   \n",
       " 130  131            7.4           2.8            6.1           1.9   \n",
       " 131  132            7.9           3.8            6.4           2.0   \n",
       " 132  133            6.4           2.8            5.6           2.2   \n",
       " 133  134            6.3           2.8            5.1           1.5   \n",
       " 134  135            6.1           2.6            5.6           1.4   \n",
       " 135  136            7.7           3.0            6.1           2.3   \n",
       " 136  137            6.3           3.4            5.6           2.4   \n",
       " 137  138            6.4           3.1            5.5           1.8   \n",
       " 138  139            6.0           3.0            4.8           1.8   \n",
       " 139  140            6.9           3.1            5.4           2.1   \n",
       " 140  141            6.7           3.1            5.6           2.4   \n",
       " 141  142            6.9           3.1            5.1           2.3   \n",
       " 142  143            5.8           2.7            5.1           1.9   \n",
       " 143  144            6.8           3.2            5.9           2.3   \n",
       " 144  145            6.7           3.3            5.7           2.5   \n",
       " 145  146            6.7           3.0            5.2           2.3   \n",
       " 146  147            6.3           2.5            5.0           1.9   \n",
       " 147  148            6.5           3.0            5.2           2.0   \n",
       " 148  149            6.2           3.4            5.4           2.3   \n",
       " 149  150            5.9           3.0            5.1           1.8   \n",
       " \n",
       "             Species  \n",
       " 100  Iris-virginica  \n",
       " 101  Iris-virginica  \n",
       " 102  Iris-virginica  \n",
       " 103  Iris-virginica  \n",
       " 104  Iris-virginica  \n",
       " 105  Iris-virginica  \n",
       " 106  Iris-virginica  \n",
       " 107  Iris-virginica  \n",
       " 108  Iris-virginica  \n",
       " 109  Iris-virginica  \n",
       " 110  Iris-virginica  \n",
       " 111  Iris-virginica  \n",
       " 112  Iris-virginica  \n",
       " 113  Iris-virginica  \n",
       " 114  Iris-virginica  \n",
       " 115  Iris-virginica  \n",
       " 116  Iris-virginica  \n",
       " 117  Iris-virginica  \n",
       " 118  Iris-virginica  \n",
       " 119  Iris-virginica  \n",
       " 120  Iris-virginica  \n",
       " 121  Iris-virginica  \n",
       " 122  Iris-virginica  \n",
       " 123  Iris-virginica  \n",
       " 124  Iris-virginica  \n",
       " 125  Iris-virginica  \n",
       " 126  Iris-virginica  \n",
       " 127  Iris-virginica  \n",
       " 128  Iris-virginica  \n",
       " 129  Iris-virginica  \n",
       " 130  Iris-virginica  \n",
       " 131  Iris-virginica  \n",
       " 132  Iris-virginica  \n",
       " 133  Iris-virginica  \n",
       " 134  Iris-virginica  \n",
       " 135  Iris-virginica  \n",
       " 136  Iris-virginica  \n",
       " 137  Iris-virginica  \n",
       " 138  Iris-virginica  \n",
       " 139  Iris-virginica  \n",
       " 140  Iris-virginica  \n",
       " 141  Iris-virginica  \n",
       " 142  Iris-virginica  \n",
       " 143  Iris-virginica  \n",
       " 144  Iris-virginica  \n",
       " 145  Iris-virginica  \n",
       " 146  Iris-virginica  \n",
       " 147  Iris-virginica  \n",
       " 148  Iris-virginica  \n",
       " 149  Iris-virginica  ]"
      ]
     },
     "execution_count": 20,
     "metadata": {},
     "output_type": "execute_result"
    }
   ],
   "source": [
    "df4=[df[:50],df[50:100],df[100:]]\n",
    "df4"
   ]
  },
  {
   "cell_type": "code",
   "execution_count": 21,
   "id": "1f6b6d0b",
   "metadata": {},
   "outputs": [
    {
     "data": {
      "text/html": [
       "<div>\n",
       "<style scoped>\n",
       "    .dataframe tbody tr th:only-of-type {\n",
       "        vertical-align: middle;\n",
       "    }\n",
       "\n",
       "    .dataframe tbody tr th {\n",
       "        vertical-align: top;\n",
       "    }\n",
       "\n",
       "    .dataframe thead th {\n",
       "        text-align: right;\n",
       "    }\n",
       "</style>\n",
       "<table border=\"1\" class=\"dataframe\">\n",
       "  <thead>\n",
       "    <tr style=\"text-align: right;\">\n",
       "      <th></th>\n",
       "      <th>Id</th>\n",
       "      <th>SepalLengthCm</th>\n",
       "      <th>SepalWidthCm</th>\n",
       "      <th>PetalLengthCm</th>\n",
       "      <th>PetalWidthCm</th>\n",
       "      <th>Species</th>\n",
       "    </tr>\n",
       "  </thead>\n",
       "  <tbody>\n",
       "    <tr>\n",
       "      <th>0</th>\n",
       "      <td>1</td>\n",
       "      <td>5.1</td>\n",
       "      <td>3.5</td>\n",
       "      <td>1.4</td>\n",
       "      <td>0.2</td>\n",
       "      <td>Iris-setosa</td>\n",
       "    </tr>\n",
       "    <tr>\n",
       "      <th>1</th>\n",
       "      <td>2</td>\n",
       "      <td>4.9</td>\n",
       "      <td>3.0</td>\n",
       "      <td>1.4</td>\n",
       "      <td>0.2</td>\n",
       "      <td>Iris-setosa</td>\n",
       "    </tr>\n",
       "    <tr>\n",
       "      <th>2</th>\n",
       "      <td>3</td>\n",
       "      <td>4.7</td>\n",
       "      <td>3.2</td>\n",
       "      <td>1.3</td>\n",
       "      <td>0.2</td>\n",
       "      <td>Iris-setosa</td>\n",
       "    </tr>\n",
       "    <tr>\n",
       "      <th>3</th>\n",
       "      <td>4</td>\n",
       "      <td>4.6</td>\n",
       "      <td>3.1</td>\n",
       "      <td>1.5</td>\n",
       "      <td>0.2</td>\n",
       "      <td>Iris-setosa</td>\n",
       "    </tr>\n",
       "    <tr>\n",
       "      <th>4</th>\n",
       "      <td>5</td>\n",
       "      <td>5.0</td>\n",
       "      <td>3.6</td>\n",
       "      <td>1.4</td>\n",
       "      <td>0.2</td>\n",
       "      <td>Iris-setosa</td>\n",
       "    </tr>\n",
       "    <tr>\n",
       "      <th>...</th>\n",
       "      <td>...</td>\n",
       "      <td>...</td>\n",
       "      <td>...</td>\n",
       "      <td>...</td>\n",
       "      <td>...</td>\n",
       "      <td>...</td>\n",
       "    </tr>\n",
       "    <tr>\n",
       "      <th>145</th>\n",
       "      <td>146</td>\n",
       "      <td>6.7</td>\n",
       "      <td>3.0</td>\n",
       "      <td>5.2</td>\n",
       "      <td>2.3</td>\n",
       "      <td>Iris-virginica</td>\n",
       "    </tr>\n",
       "    <tr>\n",
       "      <th>146</th>\n",
       "      <td>147</td>\n",
       "      <td>6.3</td>\n",
       "      <td>2.5</td>\n",
       "      <td>5.0</td>\n",
       "      <td>1.9</td>\n",
       "      <td>Iris-virginica</td>\n",
       "    </tr>\n",
       "    <tr>\n",
       "      <th>147</th>\n",
       "      <td>148</td>\n",
       "      <td>6.5</td>\n",
       "      <td>3.0</td>\n",
       "      <td>5.2</td>\n",
       "      <td>2.0</td>\n",
       "      <td>Iris-virginica</td>\n",
       "    </tr>\n",
       "    <tr>\n",
       "      <th>148</th>\n",
       "      <td>149</td>\n",
       "      <td>6.2</td>\n",
       "      <td>3.4</td>\n",
       "      <td>5.4</td>\n",
       "      <td>2.3</td>\n",
       "      <td>Iris-virginica</td>\n",
       "    </tr>\n",
       "    <tr>\n",
       "      <th>149</th>\n",
       "      <td>150</td>\n",
       "      <td>5.9</td>\n",
       "      <td>3.0</td>\n",
       "      <td>5.1</td>\n",
       "      <td>1.8</td>\n",
       "      <td>Iris-virginica</td>\n",
       "    </tr>\n",
       "  </tbody>\n",
       "</table>\n",
       "<p>150 rows × 6 columns</p>\n",
       "</div>"
      ],
      "text/plain": [
       "      Id  SepalLengthCm  SepalWidthCm  PetalLengthCm  PetalWidthCm  \\\n",
       "0      1            5.1           3.5            1.4           0.2   \n",
       "1      2            4.9           3.0            1.4           0.2   \n",
       "2      3            4.7           3.2            1.3           0.2   \n",
       "3      4            4.6           3.1            1.5           0.2   \n",
       "4      5            5.0           3.6            1.4           0.2   \n",
       "..   ...            ...           ...            ...           ...   \n",
       "145  146            6.7           3.0            5.2           2.3   \n",
       "146  147            6.3           2.5            5.0           1.9   \n",
       "147  148            6.5           3.0            5.2           2.0   \n",
       "148  149            6.2           3.4            5.4           2.3   \n",
       "149  150            5.9           3.0            5.1           1.8   \n",
       "\n",
       "            Species  \n",
       "0       Iris-setosa  \n",
       "1       Iris-setosa  \n",
       "2       Iris-setosa  \n",
       "3       Iris-setosa  \n",
       "4       Iris-setosa  \n",
       "..              ...  \n",
       "145  Iris-virginica  \n",
       "146  Iris-virginica  \n",
       "147  Iris-virginica  \n",
       "148  Iris-virginica  \n",
       "149  Iris-virginica  \n",
       "\n",
       "[150 rows x 6 columns]"
      ]
     },
     "execution_count": 21,
     "metadata": {},
     "output_type": "execute_result"
    }
   ],
   "source": [
    "pd.concat(df4)"
   ]
  },
  {
   "cell_type": "code",
   "execution_count": null,
   "id": "14a0bb2a",
   "metadata": {},
   "outputs": [],
   "source": []
  }
 ],
 "metadata": {
  "kernelspec": {
   "display_name": "Python 3",
   "language": "python",
   "name": "python3"
  },
  "language_info": {
   "codemirror_mode": {
    "name": "ipython",
    "version": 3
   },
   "file_extension": ".py",
   "mimetype": "text/x-python",
   "name": "python",
   "nbconvert_exporter": "python",
   "pygments_lexer": "ipython3",
   "version": "3.8.8"
  }
 },
 "nbformat": 4,
 "nbformat_minor": 5
}
