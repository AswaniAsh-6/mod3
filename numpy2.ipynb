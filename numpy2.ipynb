{
 "cells": [
  {
   "cell_type": "code",
   "execution_count": 1,
   "id": "9e95de04",
   "metadata": {},
   "outputs": [],
   "source": [
    "import numpy as np"
   ]
  },
  {
   "cell_type": "code",
   "execution_count": 17,
   "id": "e0c60aff",
   "metadata": {},
   "outputs": [
    {
     "name": "stdout",
     "output_type": "stream",
     "text": [
      "[3 5 7 4 2]\n",
      "Dimension: 1\n",
      "Byte size: 4\n",
      "Type: int32\n",
      "Number of elements: 5\n",
      "Total size: 20\n",
      "Shape: (5,)\n"
     ]
    }
   ],
   "source": [
    "#one dimensuional array\n",
    "a=np.array([3,5,7,4,2])\n",
    "print(a)\n",
    "print(\"Dimension:\",a.ndim)\n",
    "print(\"Byte size:\",a.itemsize)\n",
    "print(\"Type:\",a.dtype)\n",
    "print(\"Number of elements:\",a.size)\n",
    "print(\"Total size:\",a.nbytes)\n",
    "print(\"Shape:\",a.shape)"
   ]
  },
  {
   "cell_type": "code",
   "execution_count": 18,
   "id": "967eaf13",
   "metadata": {},
   "outputs": [
    {
     "name": "stdout",
     "output_type": "stream",
     "text": [
      "[[21. 40. 62.]\n",
      " [33. 57. 74.]]\n",
      "Dimension: 2\n",
      "Byte size: 8\n",
      "Type: float64\n",
      "Number of elements: 6\n",
      "Total size: 48\n",
      "Shape: (2, 3)\n"
     ]
    }
   ],
   "source": [
    "#two dimensionl array\n",
    "b=np.array([(21,40,62),(33,57,74)],float)\n",
    "print(b)\n",
    "print(\"Dimension:\",b.ndim)\n",
    "print(\"Byte size:\",b.itemsize)\n",
    "print(\"Type:\",b.dtype)\n",
    "print(\"Number of elements:\",b.size)\n",
    "print(\"Total size:\",b.nbytes)\n",
    "print(\"Shape:\",b.shape)"
   ]
  },
  {
   "cell_type": "code",
   "execution_count": 19,
   "id": "5bc23297",
   "metadata": {},
   "outputs": [
    {
     "name": "stdout",
     "output_type": "stream",
     "text": [
      "[[21. 40.]\n",
      " [62. 33.]\n",
      " [57. 74.]]\n"
     ]
    }
   ],
   "source": [
    "#Reshape\n",
    "print(b.reshape(3,2))"
   ]
  },
  {
   "cell_type": "code",
   "execution_count": 21,
   "id": "6c42e9b0",
   "metadata": {},
   "outputs": [
    {
     "name": "stdout",
     "output_type": "stream",
     "text": [
      "62.0\n",
      "[21. 40. 62.]\n",
      "[62. 74.]\n"
     ]
    }
   ],
   "source": [
    "#slicing\n",
    "print(b[0,2])\n",
    "\n",
    "print(b[0,:])\n",
    "\n",
    "print(b[0:,2])"
   ]
  },
  {
   "cell_type": "code",
   "execution_count": 30,
   "id": "59bd74f6",
   "metadata": {},
   "outputs": [
    {
     "name": "stdout",
     "output_type": "stream",
     "text": [
      "[ 1.    3.25  5.5   7.75 10.  ]\n"
     ]
    }
   ],
   "source": [
    "# 5 sequence btw 1 and10\n",
    "l=np.linspace(1,10,5)\n",
    "print(l)\n"
   ]
  },
  {
   "cell_type": "code",
   "execution_count": 31,
   "id": "3b4c1ddd",
   "metadata": {},
   "outputs": [
    {
     "name": "stdout",
     "output_type": "stream",
     "text": [
      "Max: 74.0\n",
      "Min: 21.0\n",
      "Sum: 287.0\n",
      "Sum of axis 0: [ 54.  97. 136.]\n",
      "Sum of axis 1: [123. 164.]\n",
      "Mean: 47.833333333333336\n",
      "Standard deviation: 18.123802642442953\n",
      "Square root: [[4.58257569 6.32455532 7.87400787]\n",
      " [5.74456265 7.54983444 8.60232527]]\n"
     ]
    }
   ],
   "source": [
    "print(\"Max:\",b.max())\n",
    "print(\"Min:\",b.min())\n",
    "print(\"Sum:\",b.sum())\n",
    "print(\"Sum of axis 0:\",b.sum(axis=0))\n",
    "print(\"Sum of axis 1:\",b.sum(axis=1))\n",
    "print(\"Mean:\",b.mean())\n",
    "print(\"Standard deviation:\",b.std())\n",
    "print(\"Square root:\",np.sqrt(b))\n"
   ]
  },
  {
   "cell_type": "code",
   "execution_count": 32,
   "id": "44c0c0fb",
   "metadata": {},
   "outputs": [
    {
     "name": "stdout",
     "output_type": "stream",
     "text": [
      "[21. 40. 62. 33. 57. 74.]\n"
     ]
    }
   ],
   "source": [
    "print(b.ravel())"
   ]
  },
  {
   "cell_type": "code",
   "execution_count": 34,
   "id": "41f2f4ac",
   "metadata": {},
   "outputs": [
    {
     "name": "stdout",
     "output_type": "stream",
     "text": [
      "P=\n",
      "[[1 2 3]\n",
      " [3 4 5]\n",
      " [6 7 8]]\n",
      "Q=\n",
      "[[11 65 12]\n",
      " [ 2  4  7]\n",
      " [ 4 23 10]]\n"
     ]
    }
   ],
   "source": [
    "p=np.array([(1,2,3),(3,4,5),(6,7,8)])\n",
    "q=np.array([(11,65,12),(2,4,7),(4,23,10)])\n",
    "print(\"P=\")\n",
    "print(p)\n",
    "print(\"Q=\")\n",
    "print(q)"
   ]
  },
  {
   "cell_type": "code",
   "execution_count": 35,
   "id": "c6322c10",
   "metadata": {},
   "outputs": [
    {
     "name": "stdout",
     "output_type": "stream",
     "text": [
      "P+Q\n",
      "[[12 67 15]\n",
      " [ 5  8 12]\n",
      " [10 30 18]]\n"
     ]
    }
   ],
   "source": [
    "print(\"P+Q\")\n",
    "print(p+q)"
   ]
  },
  {
   "cell_type": "code",
   "execution_count": 36,
   "id": "dce64ec8",
   "metadata": {},
   "outputs": [
    {
     "name": "stdout",
     "output_type": "stream",
     "text": [
      "P-Q\n",
      "[[-10 -63  -9]\n",
      " [  1   0  -2]\n",
      " [  2 -16  -2]]\n"
     ]
    }
   ],
   "source": [
    "print(\"P-Q\")\n",
    "print(p-q)"
   ]
  },
  {
   "cell_type": "code",
   "execution_count": 37,
   "id": "45f88dbd",
   "metadata": {},
   "outputs": [
    {
     "name": "stdout",
     "output_type": "stream",
     "text": [
      "P*Q\n",
      "[[ 11 130  36]\n",
      " [  6  16  35]\n",
      " [ 24 161  80]]\n"
     ]
    }
   ],
   "source": [
    "print(\"P*Q\")\n",
    "print(p*q)"
   ]
  },
  {
   "cell_type": "code",
   "execution_count": 38,
   "id": "4074835d",
   "metadata": {},
   "outputs": [
    {
     "name": "stdout",
     "output_type": "stream",
     "text": [
      "P/Q\n",
      "[[0.09090909 0.03076923 0.25      ]\n",
      " [1.5        1.         0.71428571]\n",
      " [1.5        0.30434783 0.8       ]]\n"
     ]
    }
   ],
   "source": [
    "print(\"P/Q\")\n",
    "print(p/q)"
   ]
  },
  {
   "cell_type": "code",
   "execution_count": 39,
   "id": "7eb132d9",
   "metadata": {},
   "outputs": [
    {
     "name": "stdout",
     "output_type": "stream",
     "text": [
      "P%Q\n",
      "[[1 2 3]\n",
      " [1 0 5]\n",
      " [2 7 8]]\n"
     ]
    }
   ],
   "source": [
    "print(\"P%Q\")\n",
    "print(p%q)"
   ]
  },
  {
   "cell_type": "code",
   "execution_count": 40,
   "id": "86f92f66",
   "metadata": {},
   "outputs": [
    {
     "name": "stdout",
     "output_type": "stream",
     "text": [
      "P**Q\n",
      "[[         1          0     531441]\n",
      " [         9        256      78125]\n",
      " [      1296  821077879 1073741824]]\n"
     ]
    }
   ],
   "source": [
    "print(\"P**Q\")\n",
    "print(p**q)"
   ]
  },
  {
   "cell_type": "code",
   "execution_count": null,
   "id": "85b4faa2",
   "metadata": {},
   "outputs": [],
   "source": [
    "print(\"Vertical:\")\n",
    "print(np.vstack((p,q)))\n",
    "print(np.hstack((p,q)))"
   ]
  }
 ],
 "metadata": {
  "kernelspec": {
   "display_name": "Python 3",
   "language": "python",
   "name": "python3"
  },
  "language_info": {
   "codemirror_mode": {
    "name": "ipython",
    "version": 3
   },
   "file_extension": ".py",
   "mimetype": "text/x-python",
   "name": "python",
   "nbconvert_exporter": "python",
   "pygments_lexer": "ipython3",
   "version": "3.8.8"
  }
 },
 "nbformat": 4,
 "nbformat_minor": 5
}
