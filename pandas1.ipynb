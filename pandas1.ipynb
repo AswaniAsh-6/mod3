{
 "cells": [
  {
   "cell_type": "code",
   "execution_count": 1,
   "id": "7cd81e3c",
   "metadata": {},
   "outputs": [],
   "source": [
    "import pandas as pd\n",
    "import numpy as np"
   ]
  },
  {
   "cell_type": "code",
   "execution_count": 2,
   "id": "2b6bdc53",
   "metadata": {},
   "outputs": [
    {
     "name": "stdout",
     "output_type": "stream",
     "text": [
      "0     1.0\n",
      "1     2.0\n",
      "2     3.0\n",
      "3     4.0\n",
      "4     5.0\n",
      "5     6.0\n",
      "6     NaN\n",
      "7     8.0\n",
      "8     9.0\n",
      "9    10.0\n",
      "dtype: float64\n"
     ]
    }
   ],
   "source": [
    "#create series\n",
    "#np.nan:null value\n",
    "s=pd.Series([1,2,3,4,5,6,np.nan,8,9,10])\n",
    "print(s)"
   ]
  },
  {
   "cell_type": "code",
   "execution_count": 3,
   "id": "f7257559",
   "metadata": {},
   "outputs": [
    {
     "name": "stdout",
     "output_type": "stream",
     "text": [
      "DatetimeIndex(['2021-10-06', '2021-10-07', '2021-10-08', '2021-10-09',\n",
      "               '2021-10-10', '2021-10-11', '2021-10-12', '2021-10-13',\n",
      "               '2021-10-14', '2021-10-15'],\n",
      "              dtype='datetime64[ns]', freq='D')\n"
     ]
    }
   ],
   "source": [
    "#dataframe\n",
    "d=pd.date_range('20211006',periods=10)\n",
    "print(d)"
   ]
  },
  {
   "cell_type": "code",
   "execution_count": 4,
   "id": "cd0668bd",
   "metadata": {},
   "outputs": [
    {
     "name": "stdout",
     "output_type": "stream",
     "text": [
      "                   A         B         C         D\n",
      "2021-10-06  1.265219 -0.410078  1.796779  2.139005\n",
      "2021-10-07  0.249236 -1.481760  1.474949  0.218890\n",
      "2021-10-08 -1.006484 -0.614809  0.166473 -0.036889\n",
      "2021-10-09 -1.430111  1.166568 -1.708489  0.258380\n",
      "2021-10-10 -0.267445  1.735814  0.251221 -1.050228\n",
      "2021-10-11 -0.570989 -1.252369  0.381064 -0.185881\n",
      "2021-10-12  0.209009  0.828044 -0.549401 -1.128903\n",
      "2021-10-13  2.081997  0.285098  0.950503  0.097531\n",
      "2021-10-14 -0.814042  0.167715 -1.248003 -0.319357\n",
      "2021-10-15  1.446248 -1.288673 -0.818310  0.056380\n"
     ]
    }
   ],
   "source": [
    "#random.randn:random values\n",
    "df=pd.DataFrame(np.random.randn(10,4),index=d,columns=['A','B','C','D'])\n",
    "print(df)"
   ]
  },
  {
   "cell_type": "code",
   "execution_count": 5,
   "id": "e251a1f4",
   "metadata": {},
   "outputs": [
    {
     "name": "stdout",
     "output_type": "stream",
     "text": [
      "   A          B    C  D      E       F\n",
      "0  1 2021-10-06  1.0  5   true  Pandas\n",
      "1  2 2021-10-06  1.0  5  false  Pandas\n",
      "2  3 2021-10-06  1.0  5   True  Pandas\n",
      "3  4 2021-10-06  1.0  5  False  Pandas\n"
     ]
    }
   ],
   "source": [
    "#dataframe by passing a dictionary\n",
    "df1=pd.DataFrame({'A':[1,2,3,4],\n",
    "                  'B':pd.Timestamp('20211006'),\n",
    "                 'C':pd.Series(1,index=list(range(4)),dtype='float32'),\n",
    "                 'D':np.array([5]*4,dtype='int32'),\n",
    "                 'E':pd.Categorical(['true','false','True','False']),\n",
    "                 'F':'Pandas'})\n",
    "print(df1)"
   ]
  },
  {
   "cell_type": "code",
   "execution_count": 6,
   "id": "b3ce1044",
   "metadata": {},
   "outputs": [
    {
     "name": "stdout",
     "output_type": "stream",
     "text": [
      "A             int64\n",
      "B    datetime64[ns]\n",
      "C           float32\n",
      "D             int32\n",
      "E          category\n",
      "F            object\n",
      "dtype: object\n"
     ]
    }
   ],
   "source": [
    "#check datatype\n",
    "print(df1.dtypes)"
   ]
  },
  {
   "cell_type": "code",
   "execution_count": 7,
   "id": "ee78b263",
   "metadata": {},
   "outputs": [
    {
     "name": "stdout",
     "output_type": "stream",
     "text": [
      "A    float64\n",
      "B    float64\n",
      "C    float64\n",
      "D    float64\n",
      "dtype: object\n"
     ]
    }
   ],
   "source": [
    "print(df.dtypes)"
   ]
  },
  {
   "cell_type": "code",
   "execution_count": 8,
   "id": "2249ab22",
   "metadata": {},
   "outputs": [
    {
     "name": "stdout",
     "output_type": "stream",
     "text": [
      "                   A         B         C         D\n",
      "2021-10-06  1.265219 -0.410078  1.796779  2.139005\n",
      "2021-10-07  0.249236 -1.481760  1.474949  0.218890\n",
      "2021-10-08 -1.006484 -0.614809  0.166473 -0.036889\n",
      "2021-10-09 -1.430111  1.166568 -1.708489  0.258380\n",
      "2021-10-10 -0.267445  1.735814  0.251221 -1.050228\n"
     ]
    }
   ],
   "source": [
    "#first five values\n",
    "print(df.head())"
   ]
  },
  {
   "cell_type": "code",
   "execution_count": 9,
   "id": "5b85cfee",
   "metadata": {},
   "outputs": [
    {
     "name": "stdout",
     "output_type": "stream",
     "text": [
      "                   A         B         C         D\n",
      "2021-10-11 -0.570989 -1.252369  0.381064 -0.185881\n",
      "2021-10-12  0.209009  0.828044 -0.549401 -1.128903\n",
      "2021-10-13  2.081997  0.285098  0.950503  0.097531\n",
      "2021-10-14 -0.814042  0.167715 -1.248003 -0.319357\n",
      "2021-10-15  1.446248 -1.288673 -0.818310  0.056380\n"
     ]
    }
   ],
   "source": [
    "#last five values\n",
    "print(df.tail())"
   ]
  },
  {
   "cell_type": "code",
   "execution_count": 10,
   "id": "4d54dee0",
   "metadata": {},
   "outputs": [
    {
     "name": "stdout",
     "output_type": "stream",
     "text": [
      "DatetimeIndex(['2021-10-06', '2021-10-07', '2021-10-08', '2021-10-09',\n",
      "               '2021-10-10', '2021-10-11', '2021-10-12', '2021-10-13',\n",
      "               '2021-10-14', '2021-10-15'],\n",
      "              dtype='datetime64[ns]', freq='D')\n"
     ]
    }
   ],
   "source": [
    "#index values\n",
    "print(df.index)"
   ]
  },
  {
   "cell_type": "code",
   "execution_count": 11,
   "id": "96fea4ef",
   "metadata": {},
   "outputs": [
    {
     "name": "stdout",
     "output_type": "stream",
     "text": [
      "Index(['A', 'B', 'C', 'D'], dtype='object')\n"
     ]
    }
   ],
   "source": [
    "#columns\n",
    "print(df.columns)"
   ]
  },
  {
   "cell_type": "code",
   "execution_count": 12,
   "id": "88f57629",
   "metadata": {},
   "outputs": [
    {
     "name": "stdout",
     "output_type": "stream",
     "text": [
      "[[ 1.26521918 -0.4100785   1.79677871  2.13900503]\n",
      " [ 0.24923589 -1.48175957  1.47494866  0.21888982]\n",
      " [-1.00648353 -0.61480939  0.16647326 -0.03688877]\n",
      " [-1.43011063  1.16656774 -1.70848861  0.25838027]\n",
      " [-0.26744485  1.73581429  0.25122065 -1.05022768]\n",
      " [-0.57098888 -1.25236939  0.38106395 -0.18588061]\n",
      " [ 0.20900857  0.82804355 -0.54940109 -1.12890266]\n",
      " [ 2.08199743  0.28509813  0.95050252  0.09753134]\n",
      " [-0.81404171  0.16771487 -1.24800306 -0.31935731]\n",
      " [ 1.44624821 -1.28867311 -0.81830955  0.05637986]]\n"
     ]
    }
   ],
   "source": [
    "#numpy representation\n",
    "print(df.to_numpy())"
   ]
  },
  {
   "cell_type": "code",
   "execution_count": 13,
   "id": "bb09ddcd",
   "metadata": {},
   "outputs": [
    {
     "name": "stdout",
     "output_type": "stream",
     "text": [
      "               A          B          C          D\n",
      "count  10.000000  10.000000  10.000000  10.000000\n",
      "mean    0.116264  -0.086445   0.069679   0.004893\n",
      "std     1.160278   1.108810   1.151942   0.895530\n",
      "min    -1.430111  -1.481760  -1.708489  -1.128903\n",
      "25%    -0.753279  -1.092979  -0.751082  -0.285988\n",
      "50%    -0.029218  -0.121182   0.208847   0.009746\n",
      "75%     1.011223   0.692307   0.808143   0.188550\n",
      "max     2.081997   1.735814   1.796779   2.139005\n"
     ]
    }
   ],
   "source": [
    "#describe the data\n",
    "print(df.describe())"
   ]
  },
  {
   "cell_type": "code",
   "execution_count": 14,
   "id": "38ef2c2b",
   "metadata": {},
   "outputs": [
    {
     "name": "stdout",
     "output_type": "stream",
     "text": [
      "                   D         C         B         A\n",
      "2021-10-06  2.139005  1.796779 -0.410078  1.265219\n",
      "2021-10-07  0.218890  1.474949 -1.481760  0.249236\n",
      "2021-10-08 -0.036889  0.166473 -0.614809 -1.006484\n",
      "2021-10-09  0.258380 -1.708489  1.166568 -1.430111\n",
      "2021-10-10 -1.050228  0.251221  1.735814 -0.267445\n",
      "2021-10-11 -0.185881  0.381064 -1.252369 -0.570989\n",
      "2021-10-12 -1.128903 -0.549401  0.828044  0.209009\n",
      "2021-10-13  0.097531  0.950503  0.285098  2.081997\n",
      "2021-10-14 -0.319357 -1.248003  0.167715 -0.814042\n",
      "2021-10-15  0.056380 -0.818310 -1.288673  1.446248\n"
     ]
    }
   ],
   "source": [
    "#sorted by index\n",
    "print(df.sort_index(axis=1,ascending=False))"
   ]
  },
  {
   "cell_type": "code",
   "execution_count": 15,
   "id": "c15a9ebf",
   "metadata": {},
   "outputs": [
    {
     "name": "stdout",
     "output_type": "stream",
     "text": [
      "                   A         B         C         D\n",
      "2021-10-09 -1.430111  1.166568 -1.708489  0.258380\n",
      "2021-10-14 -0.814042  0.167715 -1.248003 -0.319357\n",
      "2021-10-15  1.446248 -1.288673 -0.818310  0.056380\n",
      "2021-10-12  0.209009  0.828044 -0.549401 -1.128903\n",
      "2021-10-08 -1.006484 -0.614809  0.166473 -0.036889\n",
      "2021-10-10 -0.267445  1.735814  0.251221 -1.050228\n",
      "2021-10-11 -0.570989 -1.252369  0.381064 -0.185881\n",
      "2021-10-13  2.081997  0.285098  0.950503  0.097531\n",
      "2021-10-07  0.249236 -1.481760  1.474949  0.218890\n",
      "2021-10-06  1.265219 -0.410078  1.796779  2.139005\n"
     ]
    }
   ],
   "source": [
    "#sorted by values\n",
    "print(df.sort_values(by='C'))"
   ]
  },
  {
   "cell_type": "code",
   "execution_count": 16,
   "id": "d26ff898",
   "metadata": {},
   "outputs": [
    {
     "name": "stdout",
     "output_type": "stream",
     "text": [
      "2021-10-06   -0.410078\n",
      "2021-10-07   -1.481760\n",
      "2021-10-08   -0.614809\n",
      "2021-10-09    1.166568\n",
      "2021-10-10    1.735814\n",
      "2021-10-11   -1.252369\n",
      "2021-10-12    0.828044\n",
      "2021-10-13    0.285098\n",
      "2021-10-14    0.167715\n",
      "2021-10-15   -1.288673\n",
      "Freq: D, Name: B, dtype: float64\n"
     ]
    }
   ],
   "source": [
    "#access single column\n",
    "print(df['B'])"
   ]
  },
  {
   "cell_type": "code",
   "execution_count": 17,
   "id": "d2ad3533",
   "metadata": {},
   "outputs": [
    {
     "name": "stdout",
     "output_type": "stream",
     "text": [
      "                   A         B         C         D\n",
      "2021-10-06  1.265219 -0.410078  1.796779  2.139005\n",
      "2021-10-07  0.249236 -1.481760  1.474949  0.218890\n",
      "2021-10-08 -1.006484 -0.614809  0.166473 -0.036889\n",
      "2021-10-09 -1.430111  1.166568 -1.708489  0.258380\n"
     ]
    }
   ],
   "source": [
    "#slicing\n",
    "print(df[0:4])"
   ]
  },
  {
   "cell_type": "code",
   "execution_count": 18,
   "id": "bc962064",
   "metadata": {},
   "outputs": [
    {
     "name": "stdout",
     "output_type": "stream",
     "text": [
      "                   A         C\n",
      "2021-10-06  1.265219  1.796779\n",
      "2021-10-07  0.249236  1.474949\n",
      "2021-10-08 -1.006484  0.166473\n",
      "2021-10-09 -1.430111 -1.708489\n",
      "2021-10-10 -0.267445  0.251221\n",
      "2021-10-11 -0.570989  0.381064\n",
      "2021-10-12  0.209009 -0.549401\n",
      "2021-10-13  2.081997  0.950503\n",
      "2021-10-14 -0.814042 -1.248003\n",
      "2021-10-15  1.446248 -0.818310\n"
     ]
    }
   ],
   "source": [
    "#loc method\n",
    "print(df.loc[:,['A','C']])"
   ]
  },
  {
   "cell_type": "code",
   "execution_count": 19,
   "id": "2e3657f7",
   "metadata": {},
   "outputs": [
    {
     "name": "stdout",
     "output_type": "stream",
     "text": [
      "                   D         C\n",
      "2021-10-10 -1.050228  0.251221\n",
      "2021-10-11 -0.185881  0.381064\n",
      "2021-10-12 -1.128903 -0.549401\n",
      "2021-10-13  0.097531  0.950503\n",
      "2021-10-14 -0.319357 -1.248003\n",
      "2021-10-15  0.056380 -0.818310\n"
     ]
    }
   ],
   "source": [
    "print(df.loc['20211010':'20211015',['D','C']])"
   ]
  },
  {
   "cell_type": "code",
   "execution_count": 20,
   "id": "f707537f",
   "metadata": {},
   "outputs": [
    {
     "name": "stdout",
     "output_type": "stream",
     "text": [
      "D    2.139005\n",
      "C    1.796779\n",
      "Name: 2021-10-06 00:00:00, dtype: float64\n"
     ]
    }
   ],
   "source": [
    "print(df.loc[d[0],['D','C']])"
   ]
  },
  {
   "cell_type": "code",
   "execution_count": 21,
   "id": "e292e0ee",
   "metadata": {},
   "outputs": [
    {
     "name": "stdout",
     "output_type": "stream",
     "text": [
      "1.7967787106894435\n"
     ]
    }
   ],
   "source": [
    "#get exact value\n",
    "print(df.at[d[0],'C'])"
   ]
  },
  {
   "cell_type": "code",
   "execution_count": 22,
   "id": "7880d384",
   "metadata": {},
   "outputs": [
    {
     "name": "stdout",
     "output_type": "stream",
     "text": [
      "A   -1.430111\n",
      "B    1.166568\n",
      "C   -1.708489\n",
      "D    0.258380\n",
      "Name: 2021-10-09 00:00:00, dtype: float64\n"
     ]
    }
   ],
   "source": [
    "#all the value from 3rd position\n",
    "print(df.iloc[3])"
   ]
  },
  {
   "cell_type": "code",
   "execution_count": 23,
   "id": "4e45add3",
   "metadata": {},
   "outputs": [
    {
     "name": "stdout",
     "output_type": "stream",
     "text": [
      "                   A         B         C         D\n",
      "2021-10-09 -1.430111  1.166568 -1.708489  0.258380\n",
      "2021-10-10 -0.267445  1.735814  0.251221 -1.050228\n"
     ]
    }
   ],
   "source": [
    "print(df.iloc[3:5])"
   ]
  },
  {
   "cell_type": "code",
   "execution_count": 24,
   "id": "36f4ef1c",
   "metadata": {},
   "outputs": [
    {
     "name": "stdout",
     "output_type": "stream",
     "text": [
      "                   A         B\n",
      "2021-10-09 -1.430111  1.166568\n",
      "2021-10-10 -0.267445  1.735814\n"
     ]
    }
   ],
   "source": [
    "print(df.iloc[3:5,0:2])"
   ]
  },
  {
   "cell_type": "code",
   "execution_count": 25,
   "id": "801d0742",
   "metadata": {},
   "outputs": [
    {
     "name": "stdout",
     "output_type": "stream",
     "text": [
      "                   A         B         C         D\n",
      "2021-10-06  1.265219 -0.410078  1.796779  2.139005\n",
      "2021-10-07  0.249236 -1.481760  1.474949  0.218890\n",
      "2021-10-12  0.209009  0.828044 -0.549401 -1.128903\n",
      "2021-10-13  2.081997  0.285098  0.950503  0.097531\n",
      "2021-10-15  1.446248 -1.288673 -0.818310  0.056380\n"
     ]
    }
   ],
   "source": [
    "print(df[df['A']>0])"
   ]
  },
  {
   "cell_type": "code",
   "execution_count": 26,
   "id": "191e6381",
   "metadata": {},
   "outputs": [
    {
     "name": "stdout",
     "output_type": "stream",
     "text": [
      "                   A         B         C         D\n",
      "2021-10-06  1.265219 -0.410078  1.796779  2.139005\n",
      "2021-10-13  2.081997  0.285098  0.950503  0.097531\n",
      "2021-10-15  1.446248 -1.288673 -0.818310  0.056380\n"
     ]
    }
   ],
   "source": [
    "print(df[df['A']>1])"
   ]
  },
  {
   "cell_type": "code",
   "execution_count": 27,
   "id": "26f71502",
   "metadata": {},
   "outputs": [
    {
     "name": "stdout",
     "output_type": "stream",
     "text": [
      "                   A         B         C         D    E\n",
      "2021-10-06  1.265219 -0.410078  1.796779  2.139005  1.0\n",
      "2021-10-07  0.249236 -1.481760  1.474949  0.218890  1.0\n",
      "2021-10-08 -1.006484 -0.614809  0.166473 -0.036889  NaN\n",
      "2021-10-09 -1.430111  1.166568 -1.708489  0.258380  NaN\n"
     ]
    }
   ],
   "source": [
    "df2=df.reindex(index=d[0:4],columns=list(df.columns)+['E'])\n",
    "df2.loc[d[0]:d[1],'E']=1\n",
    "print(df2)"
   ]
  },
  {
   "cell_type": "code",
   "execution_count": 28,
   "id": "ccd48406",
   "metadata": {},
   "outputs": [
    {
     "name": "stdout",
     "output_type": "stream",
     "text": [
      "                A      B      C      D      E\n",
      "2021-10-06  False  False  False  False  False\n",
      "2021-10-07  False  False  False  False  False\n",
      "2021-10-08  False  False  False  False   True\n",
      "2021-10-09  False  False  False  False   True\n"
     ]
    }
   ],
   "source": [
    "print(df2.isnull())"
   ]
  },
  {
   "cell_type": "code",
   "execution_count": 29,
   "id": "ea6c8d84",
   "metadata": {},
   "outputs": [
    {
     "name": "stdout",
     "output_type": "stream",
     "text": [
      "                   A         B         C         D    E\n",
      "2021-10-06  1.265219 -0.410078  1.796779  2.139005  1.0\n",
      "2021-10-07  0.249236 -1.481760  1.474949  0.218890  1.0\n"
     ]
    }
   ],
   "source": [
    "#drop null columns\n",
    "print(df2.dropna())"
   ]
  },
  {
   "cell_type": "code",
   "execution_count": 30,
   "id": "e5a9be06",
   "metadata": {},
   "outputs": [
    {
     "name": "stdout",
     "output_type": "stream",
     "text": [
      "                   A         B         C         D    E\n",
      "2021-10-06  1.265219 -0.410078  1.796779  2.139005  1.0\n",
      "2021-10-07  0.249236 -1.481760  1.474949  0.218890  1.0\n",
      "2021-10-08 -1.006484 -0.614809  0.166473 -0.036889  2.0\n",
      "2021-10-09 -1.430111  1.166568 -1.708489  0.258380  2.0\n"
     ]
    }
   ],
   "source": [
    "#fill null values\n",
    "print(df2.fillna(value=2))"
   ]
  },
  {
   "cell_type": "code",
   "execution_count": 31,
   "id": "357510b8",
   "metadata": {},
   "outputs": [
    {
     "name": "stdout",
     "output_type": "stream",
     "text": [
      "A    0.116264\n",
      "B   -0.086445\n",
      "C    0.069679\n",
      "D    0.004893\n",
      "dtype: float64\n"
     ]
    }
   ],
   "source": [
    "print(df.mean())"
   ]
  },
  {
   "cell_type": "code",
   "execution_count": 32,
   "id": "3e8e3dd2",
   "metadata": {},
   "outputs": [
    {
     "name": "stdout",
     "output_type": "stream",
     "text": [
      "2021-10-06    NaN\n",
      "2021-10-07    NaN\n",
      "2021-10-08    1.0\n",
      "2021-10-09    2.0\n",
      "2021-10-10    3.0\n",
      "2021-10-11    NaN\n",
      "2021-10-12    4.0\n",
      "2021-10-13    5.0\n",
      "2021-10-14    6.0\n",
      "2021-10-15    7.0\n",
      "Freq: D, dtype: float64\n"
     ]
    }
   ],
   "source": [
    "s=pd.Series([1,2,3,np.nan,4,5,6,7,8,9],index=d).shift(2)\n",
    "print(s)"
   ]
  },
  {
   "cell_type": "code",
   "execution_count": 33,
   "id": "2f319570",
   "metadata": {},
   "outputs": [
    {
     "name": "stdout",
     "output_type": "stream",
     "text": [
      "                   A         B         C         D\n",
      "2021-10-06       NaN       NaN       NaN       NaN\n",
      "2021-10-07       NaN       NaN       NaN       NaN\n",
      "2021-10-08 -2.006484 -1.614809 -0.833527 -1.036889\n",
      "2021-10-09 -3.430111 -0.833432 -3.708489 -1.741620\n",
      "2021-10-10 -3.267445 -1.264186 -2.748779 -4.050228\n",
      "2021-10-11       NaN       NaN       NaN       NaN\n",
      "2021-10-12 -3.790991 -3.171956 -4.549401 -5.128903\n",
      "2021-10-13 -2.918003 -4.714902 -4.049497 -4.902469\n",
      "2021-10-14 -6.814042 -5.832285 -7.248003 -6.319357\n",
      "2021-10-15 -5.553752 -8.288673 -7.818310 -6.943620\n"
     ]
    }
   ],
   "source": [
    "#substract d by s\n",
    "print(df.sub(s,axis='index'))"
   ]
  },
  {
   "cell_type": "code",
   "execution_count": 34,
   "id": "9cc5254f",
   "metadata": {},
   "outputs": [
    {
     "name": "stdout",
     "output_type": "stream",
     "text": [
      "                   A         B         C         D\n",
      "2021-10-06  1.265219 -0.410078  1.796779  2.139005\n",
      "2021-10-07  0.249236 -1.481760  1.474949  0.218890\n",
      "2021-10-08 -1.006484 -0.614809  0.166473 -0.036889\n",
      "2021-10-09 -1.430111  1.166568 -1.708489  0.258380\n",
      "2021-10-10 -0.267445  1.735814  0.251221 -1.050228\n",
      "2021-10-11 -0.570989 -1.252369  0.381064 -0.185881\n",
      "2021-10-12  0.209009  0.828044 -0.549401 -1.128903\n",
      "2021-10-13  2.081997  0.285098  0.950503  0.097531\n",
      "2021-10-14 -0.814042  0.167715 -1.248003 -0.319357\n",
      "2021-10-15  1.446248 -1.288673 -0.818310  0.056380\n"
     ]
    }
   ],
   "source": [
    "print(df)"
   ]
  },
  {
   "cell_type": "code",
   "execution_count": 35,
   "id": "29bd6f5d",
   "metadata": {},
   "outputs": [
    {
     "name": "stdout",
     "output_type": "stream",
     "text": [
      "                   A         B         C         D\n",
      "2021-10-06  1.265219 -0.410078  1.796779  2.139005\n",
      "2021-10-07  1.514455 -1.891838  3.271727  2.357895\n",
      "2021-10-08  0.507972 -2.506647  3.438201  2.321006\n",
      "2021-10-09 -0.922139 -1.340080  1.729712  2.579386\n",
      "2021-10-10 -1.189584  0.395735  1.980933  1.529159\n",
      "2021-10-11 -1.760573 -0.856635  2.361997  1.343278\n",
      "2021-10-12 -1.551564 -0.028591  1.812596  0.214375\n",
      "2021-10-13  0.530433  0.256507  2.763098  0.311907\n",
      "2021-10-14 -0.283609  0.424222  1.515095 -0.007451\n",
      "2021-10-15  1.162640 -0.864451  0.696785  0.048929\n"
     ]
    }
   ],
   "source": [
    "#cumulative sum\n",
    "print(df.apply(np.cumsum))"
   ]
  },
  {
   "cell_type": "code",
   "execution_count": 36,
   "id": "635de267",
   "metadata": {},
   "outputs": [
    {
     "name": "stdout",
     "output_type": "stream",
     "text": [
      "A    3.512108\n",
      "B    3.217574\n",
      "C    3.505267\n",
      "D    3.267908\n",
      "dtype: float64\n"
     ]
    }
   ],
   "source": [
    "print(df.apply(lambda x:x.max()-x.min()))"
   ]
  },
  {
   "cell_type": "code",
   "execution_count": 37,
   "id": "6df679be",
   "metadata": {},
   "outputs": [
    {
     "name": "stdout",
     "output_type": "stream",
     "text": [
      "3.0    1\n",
      "7.0    1\n",
      "6.0    1\n",
      "4.0    1\n",
      "2.0    1\n",
      "5.0    1\n",
      "1.0    1\n",
      "dtype: int64\n"
     ]
    }
   ],
   "source": [
    "print(s.value_counts())"
   ]
  },
  {
   "cell_type": "code",
   "execution_count": 38,
   "id": "f9d031ae",
   "metadata": {},
   "outputs": [
    {
     "name": "stdout",
     "output_type": "stream",
     "text": [
      "0     PANDAS\n",
      "1     PYTHON\n",
      "2    JUPYTER\n",
      "3        NaN\n",
      "4       JAVA\n",
      "5      COLAB\n",
      "dtype: object\n"
     ]
    }
   ],
   "source": [
    "s=pd.Series(['pandas','python','jupyter',np.nan,'java','colab'])\n",
    "print(s.str.upper())"
   ]
  },
  {
   "cell_type": "code",
   "execution_count": 39,
   "id": "481c7d9a",
   "metadata": {},
   "outputs": [
    {
     "name": "stdout",
     "output_type": "stream",
     "text": [
      "          0         1         2         3\n",
      "0 -0.004866 -0.490435 -0.343996  2.094336\n",
      "1  0.232624 -2.058152  1.517612  1.342595\n",
      "2  0.753776  0.056186  0.008713 -0.816360\n",
      "3  0.377515 -1.179499 -0.301431 -0.414765\n",
      "4 -1.060267  0.157136 -1.161921  1.174944\n",
      "5 -0.531232  2.924786  0.111726 -0.292541\n",
      "6  0.062195 -0.884605 -0.638533 -0.762899\n",
      "7 -0.293283 -1.604799 -0.016716 -0.790920\n",
      "8  0.042356 -0.241014 -1.342244  0.580102\n",
      "9  0.042341 -3.278765 -0.478191 -1.766736\n"
     ]
    }
   ],
   "source": [
    "df=pd.DataFrame(np.random.randn(10,4))\n",
    "print(df)"
   ]
  },
  {
   "cell_type": "code",
   "execution_count": 40,
   "id": "a255dca1",
   "metadata": {},
   "outputs": [
    {
     "data": {
      "text/plain": [
       "[          0         1         2         3\n",
       " 0 -0.004866 -0.490435 -0.343996  2.094336\n",
       " 1  0.232624 -2.058152  1.517612  1.342595\n",
       " 2  0.753776  0.056186  0.008713 -0.816360,\n",
       "           0         1         2         3\n",
       " 3  0.377515 -1.179499 -0.301431 -0.414765\n",
       " 4 -1.060267  0.157136 -1.161921  1.174944\n",
       " 5 -0.531232  2.924786  0.111726 -0.292541\n",
       " 6  0.062195 -0.884605 -0.638533 -0.762899,\n",
       "           0         1         2         3\n",
       " 7 -0.293283 -1.604799 -0.016716 -0.790920\n",
       " 8  0.042356 -0.241014 -1.342244  0.580102\n",
       " 9  0.042341 -3.278765 -0.478191 -1.766736]"
      ]
     },
     "execution_count": 40,
     "metadata": {},
     "output_type": "execute_result"
    }
   ],
   "source": [
    "#break the dataframe\n",
    "df2=[df[:3],df[3:7],df[7:]]\n",
    "df2"
   ]
  },
  {
   "cell_type": "code",
   "execution_count": 41,
   "id": "59162d0f",
   "metadata": {},
   "outputs": [
    {
     "data": {
      "text/html": [
       "<div>\n",
       "<style scoped>\n",
       "    .dataframe tbody tr th:only-of-type {\n",
       "        vertical-align: middle;\n",
       "    }\n",
       "\n",
       "    .dataframe tbody tr th {\n",
       "        vertical-align: top;\n",
       "    }\n",
       "\n",
       "    .dataframe thead th {\n",
       "        text-align: right;\n",
       "    }\n",
       "</style>\n",
       "<table border=\"1\" class=\"dataframe\">\n",
       "  <thead>\n",
       "    <tr style=\"text-align: right;\">\n",
       "      <th></th>\n",
       "      <th>0</th>\n",
       "      <th>1</th>\n",
       "      <th>2</th>\n",
       "      <th>3</th>\n",
       "    </tr>\n",
       "  </thead>\n",
       "  <tbody>\n",
       "    <tr>\n",
       "      <th>0</th>\n",
       "      <td>-0.004866</td>\n",
       "      <td>-0.490435</td>\n",
       "      <td>-0.343996</td>\n",
       "      <td>2.094336</td>\n",
       "    </tr>\n",
       "    <tr>\n",
       "      <th>1</th>\n",
       "      <td>0.232624</td>\n",
       "      <td>-2.058152</td>\n",
       "      <td>1.517612</td>\n",
       "      <td>1.342595</td>\n",
       "    </tr>\n",
       "    <tr>\n",
       "      <th>2</th>\n",
       "      <td>0.753776</td>\n",
       "      <td>0.056186</td>\n",
       "      <td>0.008713</td>\n",
       "      <td>-0.816360</td>\n",
       "    </tr>\n",
       "    <tr>\n",
       "      <th>3</th>\n",
       "      <td>0.377515</td>\n",
       "      <td>-1.179499</td>\n",
       "      <td>-0.301431</td>\n",
       "      <td>-0.414765</td>\n",
       "    </tr>\n",
       "    <tr>\n",
       "      <th>4</th>\n",
       "      <td>-1.060267</td>\n",
       "      <td>0.157136</td>\n",
       "      <td>-1.161921</td>\n",
       "      <td>1.174944</td>\n",
       "    </tr>\n",
       "    <tr>\n",
       "      <th>5</th>\n",
       "      <td>-0.531232</td>\n",
       "      <td>2.924786</td>\n",
       "      <td>0.111726</td>\n",
       "      <td>-0.292541</td>\n",
       "    </tr>\n",
       "    <tr>\n",
       "      <th>6</th>\n",
       "      <td>0.062195</td>\n",
       "      <td>-0.884605</td>\n",
       "      <td>-0.638533</td>\n",
       "      <td>-0.762899</td>\n",
       "    </tr>\n",
       "    <tr>\n",
       "      <th>7</th>\n",
       "      <td>-0.293283</td>\n",
       "      <td>-1.604799</td>\n",
       "      <td>-0.016716</td>\n",
       "      <td>-0.790920</td>\n",
       "    </tr>\n",
       "    <tr>\n",
       "      <th>8</th>\n",
       "      <td>0.042356</td>\n",
       "      <td>-0.241014</td>\n",
       "      <td>-1.342244</td>\n",
       "      <td>0.580102</td>\n",
       "    </tr>\n",
       "    <tr>\n",
       "      <th>9</th>\n",
       "      <td>0.042341</td>\n",
       "      <td>-3.278765</td>\n",
       "      <td>-0.478191</td>\n",
       "      <td>-1.766736</td>\n",
       "    </tr>\n",
       "  </tbody>\n",
       "</table>\n",
       "</div>"
      ],
      "text/plain": [
       "          0         1         2         3\n",
       "0 -0.004866 -0.490435 -0.343996  2.094336\n",
       "1  0.232624 -2.058152  1.517612  1.342595\n",
       "2  0.753776  0.056186  0.008713 -0.816360\n",
       "3  0.377515 -1.179499 -0.301431 -0.414765\n",
       "4 -1.060267  0.157136 -1.161921  1.174944\n",
       "5 -0.531232  2.924786  0.111726 -0.292541\n",
       "6  0.062195 -0.884605 -0.638533 -0.762899\n",
       "7 -0.293283 -1.604799 -0.016716 -0.790920\n",
       "8  0.042356 -0.241014 -1.342244  0.580102\n",
       "9  0.042341 -3.278765 -0.478191 -1.766736"
      ]
     },
     "execution_count": 41,
     "metadata": {},
     "output_type": "execute_result"
    }
   ],
   "source": [
    "#concat the several pieces\n",
    "pd.concat(df2)"
   ]
  },
  {
   "cell_type": "code",
   "execution_count": 42,
   "id": "be3dd4a0",
   "metadata": {},
   "outputs": [
    {
     "data": {
      "text/html": [
       "<div>\n",
       "<style scoped>\n",
       "    .dataframe tbody tr th:only-of-type {\n",
       "        vertical-align: middle;\n",
       "    }\n",
       "\n",
       "    .dataframe tbody tr th {\n",
       "        vertical-align: top;\n",
       "    }\n",
       "\n",
       "    .dataframe thead th {\n",
       "        text-align: right;\n",
       "    }\n",
       "</style>\n",
       "<table border=\"1\" class=\"dataframe\">\n",
       "  <thead>\n",
       "    <tr style=\"text-align: right;\">\n",
       "      <th></th>\n",
       "      <th>A</th>\n",
       "      <th>B</th>\n",
       "    </tr>\n",
       "  </thead>\n",
       "  <tbody>\n",
       "    <tr>\n",
       "      <th>0</th>\n",
       "      <td>1</td>\n",
       "      <td>3</td>\n",
       "    </tr>\n",
       "    <tr>\n",
       "      <th>1</th>\n",
       "      <td>2</td>\n",
       "      <td>4</td>\n",
       "    </tr>\n",
       "  </tbody>\n",
       "</table>\n",
       "</div>"
      ],
      "text/plain": [
       "   A  B\n",
       "0  1  3\n",
       "1  2  4"
      ]
     },
     "execution_count": 42,
     "metadata": {},
     "output_type": "execute_result"
    }
   ],
   "source": [
    "left=pd.DataFrame({'A':[1,2],'B':[3,4]})\n",
    "left"
   ]
  },
  {
   "cell_type": "code",
   "execution_count": 43,
   "id": "776c2a98",
   "metadata": {},
   "outputs": [
    {
     "data": {
      "text/html": [
       "<div>\n",
       "<style scoped>\n",
       "    .dataframe tbody tr th:only-of-type {\n",
       "        vertical-align: middle;\n",
       "    }\n",
       "\n",
       "    .dataframe tbody tr th {\n",
       "        vertical-align: top;\n",
       "    }\n",
       "\n",
       "    .dataframe thead th {\n",
       "        text-align: right;\n",
       "    }\n",
       "</style>\n",
       "<table border=\"1\" class=\"dataframe\">\n",
       "  <thead>\n",
       "    <tr style=\"text-align: right;\">\n",
       "      <th></th>\n",
       "      <th>A</th>\n",
       "      <th>D</th>\n",
       "    </tr>\n",
       "  </thead>\n",
       "  <tbody>\n",
       "    <tr>\n",
       "      <th>0</th>\n",
       "      <td>3</td>\n",
       "      <td>4</td>\n",
       "    </tr>\n",
       "    <tr>\n",
       "      <th>1</th>\n",
       "      <td>2</td>\n",
       "      <td>5</td>\n",
       "    </tr>\n",
       "  </tbody>\n",
       "</table>\n",
       "</div>"
      ],
      "text/plain": [
       "   A  D\n",
       "0  3  4\n",
       "1  2  5"
      ]
     },
     "execution_count": 43,
     "metadata": {},
     "output_type": "execute_result"
    }
   ],
   "source": [
    "right=pd.DataFrame({'A':[3,2],'D':[4,5]})\n",
    "right"
   ]
  },
  {
   "cell_type": "code",
   "execution_count": 44,
   "id": "892d5882",
   "metadata": {},
   "outputs": [
    {
     "data": {
      "text/html": [
       "<div>\n",
       "<style scoped>\n",
       "    .dataframe tbody tr th:only-of-type {\n",
       "        vertical-align: middle;\n",
       "    }\n",
       "\n",
       "    .dataframe tbody tr th {\n",
       "        vertical-align: top;\n",
       "    }\n",
       "\n",
       "    .dataframe thead th {\n",
       "        text-align: right;\n",
       "    }\n",
       "</style>\n",
       "<table border=\"1\" class=\"dataframe\">\n",
       "  <thead>\n",
       "    <tr style=\"text-align: right;\">\n",
       "      <th></th>\n",
       "      <th>A</th>\n",
       "      <th>B</th>\n",
       "      <th>D</th>\n",
       "    </tr>\n",
       "  </thead>\n",
       "  <tbody>\n",
       "    <tr>\n",
       "      <th>0</th>\n",
       "      <td>2</td>\n",
       "      <td>4</td>\n",
       "      <td>5</td>\n",
       "    </tr>\n",
       "  </tbody>\n",
       "</table>\n",
       "</div>"
      ],
      "text/plain": [
       "   A  B  D\n",
       "0  2  4  5"
      ]
     },
     "execution_count": 44,
     "metadata": {},
     "output_type": "execute_result"
    }
   ],
   "source": [
    "pd.merge(left,right,on='A')"
   ]
  },
  {
   "cell_type": "code",
   "execution_count": 45,
   "id": "63ade569",
   "metadata": {},
   "outputs": [
    {
     "data": {
      "text/html": [
       "<div>\n",
       "<style scoped>\n",
       "    .dataframe tbody tr th:only-of-type {\n",
       "        vertical-align: middle;\n",
       "    }\n",
       "\n",
       "    .dataframe tbody tr th {\n",
       "        vertical-align: top;\n",
       "    }\n",
       "\n",
       "    .dataframe thead th {\n",
       "        text-align: right;\n",
       "    }\n",
       "</style>\n",
       "<table border=\"1\" class=\"dataframe\">\n",
       "  <thead>\n",
       "    <tr style=\"text-align: right;\">\n",
       "      <th></th>\n",
       "      <th></th>\n",
       "      <th>A</th>\n",
       "      <th>B</th>\n",
       "    </tr>\n",
       "    <tr>\n",
       "      <th>First</th>\n",
       "      <th>Second</th>\n",
       "      <th></th>\n",
       "      <th></th>\n",
       "    </tr>\n",
       "  </thead>\n",
       "  <tbody>\n",
       "    <tr>\n",
       "      <th>1</th>\n",
       "      <th>11</th>\n",
       "      <td>0.659006</td>\n",
       "      <td>-0.312015</td>\n",
       "    </tr>\n",
       "    <tr>\n",
       "      <th>2</th>\n",
       "      <th>12</th>\n",
       "      <td>-0.437089</td>\n",
       "      <td>-0.143997</td>\n",
       "    </tr>\n",
       "    <tr>\n",
       "      <th>3</th>\n",
       "      <th>13</th>\n",
       "      <td>0.354591</td>\n",
       "      <td>-0.537537</td>\n",
       "    </tr>\n",
       "    <tr>\n",
       "      <th>4</th>\n",
       "      <th>6</th>\n",
       "      <td>0.972277</td>\n",
       "      <td>0.226803</td>\n",
       "    </tr>\n",
       "    <tr>\n",
       "      <th>5</th>\n",
       "      <th>7</th>\n",
       "      <td>0.005226</td>\n",
       "      <td>-0.522762</td>\n",
       "    </tr>\n",
       "    <tr>\n",
       "      <th>17</th>\n",
       "      <th>8</th>\n",
       "      <td>-0.009387</td>\n",
       "      <td>1.027772</td>\n",
       "    </tr>\n",
       "    <tr>\n",
       "      <th>18</th>\n",
       "      <th>9</th>\n",
       "      <td>-0.316685</td>\n",
       "      <td>1.518098</td>\n",
       "    </tr>\n",
       "    <tr>\n",
       "      <th>19</th>\n",
       "      <th>10</th>\n",
       "      <td>0.638308</td>\n",
       "      <td>0.409384</td>\n",
       "    </tr>\n",
       "  </tbody>\n",
       "</table>\n",
       "</div>"
      ],
      "text/plain": [
       "                     A         B\n",
       "First Second                    \n",
       "1     11      0.659006 -0.312015\n",
       "2     12     -0.437089 -0.143997\n",
       "3     13      0.354591 -0.537537\n",
       "4     6       0.972277  0.226803\n",
       "5     7       0.005226 -0.522762\n",
       "17    8      -0.009387  1.027772\n",
       "18    9      -0.316685  1.518098\n",
       "19    10      0.638308  0.409384"
      ]
     },
     "execution_count": 45,
     "metadata": {},
     "output_type": "execute_result"
    }
   ],
   "source": [
    "my_tuple=list(zip(*[[1,2,3,4,5,17,18,19],[11,12,13,6,7,8,9,10]]))\n",
    "index=pd.MultiIndex.from_tuples(my_tuple,names=['First','Second'])\n",
    "df=pd.DataFrame(np.random.randn(8,2),index=index,columns=['A','B'])\n",
    "df"
   ]
  },
  {
   "cell_type": "code",
   "execution_count": 46,
   "id": "f655f2ae",
   "metadata": {},
   "outputs": [
    {
     "data": {
      "text/html": [
       "<div>\n",
       "<style scoped>\n",
       "    .dataframe tbody tr th:only-of-type {\n",
       "        vertical-align: middle;\n",
       "    }\n",
       "\n",
       "    .dataframe tbody tr th {\n",
       "        vertical-align: top;\n",
       "    }\n",
       "\n",
       "    .dataframe thead th {\n",
       "        text-align: right;\n",
       "    }\n",
       "</style>\n",
       "<table border=\"1\" class=\"dataframe\">\n",
       "  <thead>\n",
       "    <tr style=\"text-align: right;\">\n",
       "      <th></th>\n",
       "      <th></th>\n",
       "      <th>A</th>\n",
       "      <th>B</th>\n",
       "    </tr>\n",
       "    <tr>\n",
       "      <th>First</th>\n",
       "      <th>Second</th>\n",
       "      <th></th>\n",
       "      <th></th>\n",
       "    </tr>\n",
       "  </thead>\n",
       "  <tbody>\n",
       "    <tr>\n",
       "      <th>1</th>\n",
       "      <th>11</th>\n",
       "      <td>0.659006</td>\n",
       "      <td>-0.312015</td>\n",
       "    </tr>\n",
       "    <tr>\n",
       "      <th>2</th>\n",
       "      <th>12</th>\n",
       "      <td>-0.437089</td>\n",
       "      <td>-0.143997</td>\n",
       "    </tr>\n",
       "  </tbody>\n",
       "</table>\n",
       "</div>"
      ],
      "text/plain": [
       "                     A         B\n",
       "First Second                    \n",
       "1     11      0.659006 -0.312015\n",
       "2     12     -0.437089 -0.143997"
      ]
     },
     "execution_count": 46,
     "metadata": {},
     "output_type": "execute_result"
    }
   ],
   "source": [
    "df2=df[:2]\n",
    "df2"
   ]
  },
  {
   "cell_type": "code",
   "execution_count": 47,
   "id": "f47b99fc",
   "metadata": {},
   "outputs": [
    {
     "data": {
      "text/plain": [
       "First  Second   \n",
       "1      11      A    0.659006\n",
       "               B   -0.312015\n",
       "2      12      A   -0.437089\n",
       "               B   -0.143997\n",
       "dtype: float64"
      ]
     },
     "execution_count": 47,
     "metadata": {},
     "output_type": "execute_result"
    }
   ],
   "source": [
    "df2.stack()"
   ]
  },
  {
   "cell_type": "code",
   "execution_count": 48,
   "id": "6f64e8d0",
   "metadata": {},
   "outputs": [
    {
     "data": {
      "text/html": [
       "<div>\n",
       "<style scoped>\n",
       "    .dataframe tbody tr th:only-of-type {\n",
       "        vertical-align: middle;\n",
       "    }\n",
       "\n",
       "    .dataframe tbody tr th {\n",
       "        vertical-align: top;\n",
       "    }\n",
       "\n",
       "    .dataframe thead tr th {\n",
       "        text-align: left;\n",
       "    }\n",
       "\n",
       "    .dataframe thead tr:last-of-type th {\n",
       "        text-align: right;\n",
       "    }\n",
       "</style>\n",
       "<table border=\"1\" class=\"dataframe\">\n",
       "  <thead>\n",
       "    <tr>\n",
       "      <th></th>\n",
       "      <th colspan=\"2\" halign=\"left\">A</th>\n",
       "      <th colspan=\"2\" halign=\"left\">B</th>\n",
       "    </tr>\n",
       "    <tr>\n",
       "      <th>Second</th>\n",
       "      <th>11</th>\n",
       "      <th>12</th>\n",
       "      <th>11</th>\n",
       "      <th>12</th>\n",
       "    </tr>\n",
       "    <tr>\n",
       "      <th>First</th>\n",
       "      <th></th>\n",
       "      <th></th>\n",
       "      <th></th>\n",
       "      <th></th>\n",
       "    </tr>\n",
       "  </thead>\n",
       "  <tbody>\n",
       "    <tr>\n",
       "      <th>1</th>\n",
       "      <td>0.659006</td>\n",
       "      <td>NaN</td>\n",
       "      <td>-0.312015</td>\n",
       "      <td>NaN</td>\n",
       "    </tr>\n",
       "    <tr>\n",
       "      <th>2</th>\n",
       "      <td>NaN</td>\n",
       "      <td>-0.437089</td>\n",
       "      <td>NaN</td>\n",
       "      <td>-0.143997</td>\n",
       "    </tr>\n",
       "  </tbody>\n",
       "</table>\n",
       "</div>"
      ],
      "text/plain": [
       "               A                   B          \n",
       "Second        11        12        11        12\n",
       "First                                         \n",
       "1       0.659006       NaN -0.312015       NaN\n",
       "2            NaN -0.437089       NaN -0.143997"
      ]
     },
     "execution_count": 48,
     "metadata": {},
     "output_type": "execute_result"
    }
   ],
   "source": [
    "df2.unstack()"
   ]
  },
  {
   "cell_type": "code",
   "execution_count": null,
   "id": "24b8dea7",
   "metadata": {},
   "outputs": [],
   "source": []
  }
 ],
 "metadata": {
  "kernelspec": {
   "display_name": "Python 3",
   "language": "python",
   "name": "python3"
  },
  "language_info": {
   "codemirror_mode": {
    "name": "ipython",
    "version": 3
   },
   "file_extension": ".py",
   "mimetype": "text/x-python",
   "name": "python",
   "nbconvert_exporter": "python",
   "pygments_lexer": "ipython3",
   "version": "3.8.8"
  }
 },
 "nbformat": 4,
 "nbformat_minor": 5
}
